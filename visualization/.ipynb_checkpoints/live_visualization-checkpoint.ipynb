{
 "cells": [
  {
   "cell_type": "code",
   "execution_count": 1,
   "metadata": {},
   "outputs": [],
   "source": [
    "%matplotlib inline\n",
    "import matplotlib.pyplot as plt\n",
    "import pandas as pd\n",
    "import os\n",
    "import time\n",
    "import numpy as np\n",
    "from IPython import display\n",
    "\n",
    "path = '/home/iv/dev/particlefilter/visualization'\n",
    "\n",
    "gt = pd.read_csv(path + '/input/ground_truth.csv')\n"
   ]
  },
  {
   "cell_type": "code",
   "execution_count": null,
   "metadata": {},
   "outputs": [
    {
     "data": {
      "image/png": "[encoded data removed]",
      "text/plain": [
       "<Figure size 432x288 with 1 Axes>"
      ]
     },
     "metadata": {},
     "output_type": "display_data"
    }
   ],
   "source": [
    "for i in range(10000):\n",
    "    plt.clf()\n",
    "    ps = pd.read_csv(path + '/input/particles.csv')\n",
    "    plt.plot(ps.x, ps.y, '.')\n",
    "    plt.plot(gt.x, gt.y, '.g')\n",
    "    ps = pd.read_csv(path + '/input/history.csv')\n",
    "    plt.plot(ps.x, ps.y, '.')\n",
    "    plt.plot(gt.x, gt.y, '.g')\n",
    "    display.clear_output(wait=True)\n",
    "    plt.title('Iteration: ' + str(i))\n",
    "    plt.axis('equal')\n",
    "    display.display(plt.gcf())\n",
    "    time.sleep(0.1)"
   ]
  },
  {
   "cell_type": "code",
   "execution_count": null,
   "metadata": {},
   "outputs": [],
   "source": []
  }
 ],
 "metadata": {
  "interpreter": {
   "hash": "916dbcbb3f70747c44a77c7bcd40155683ae19c65e1c03b4aa3499c5328201f1"
  },
  "kernelspec": {
   "display_name": "Python 3 (ipykernel)",
   "language": "python",
   "name": "python3"
  },
  "language_info": {
   "codemirror_mode": {
    "name": "ipython",
    "version": 3
   },
   "file_extension": ".py",
   "mimetype": "text/x-python",
   "name": "python",
   "nbconvert_exporter": "python",
   "pygments_lexer": "ipython3",
   "version": "3.8.10"
  }
 },
 "nbformat": 4,
 "nbformat_minor": 2
}
